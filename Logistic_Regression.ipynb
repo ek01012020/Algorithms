{
 "cells": [
  {
   "cell_type": "markdown",
   "metadata": {},
   "source": [
    "Определите AUC_ROC и AUC_PR для модели логистической регрессии на тестовой выборке.<br>\n",
    "Используйте реализацию модели в виде класса и функцию confusion, чтобы рассчитать TPR, FPR, precision, recall для различных порогов вероятности.<br>\n",
    "Дополнительное задание(не обязательно): Получите такие же характеристики для линейной регрессии и сравните две модели."
   ]
  },
  {
   "cell_type": "code",
   "execution_count": 1,
   "metadata": {},
   "outputs": [],
   "source": [
    "from sklearn import datasets\n",
    "from sklearn.model_selection import train_test_split\n",
    "import numpy as np\n",
    "import matplotlib.pyplot as plt\n",
    "from matplotlib.colors import ListedColormap\n",
    "from matplotlib.colors import ListedColormap\n",
    "\n",
    "%matplotlib inline"
   ]
  },
  {
   "cell_type": "code",
   "execution_count": 2,
   "metadata": {},
   "outputs": [],
   "source": [
    "class logistic_regression:\n",
    "    def __init__(self, n_iterations=1000, eta=0.05):\n",
    "        self.n_iterations=1000\n",
    "        self.eta=eta\n",
    "    def _log_grad(self, X, target):\n",
    "        m = X.shape[0]\n",
    "        y=(2*target-1)\n",
    "        score=np.dot(X, self.w.T).flatten()+self.w0\n",
    "        Z=-y/(m*(1+np.exp(y*score)))\n",
    "        grad=Z[np.newaxis, :].dot(X)\n",
    "        return grad/m, np.sum(Z)/m\n",
    "    def _optimize(self, X, target):\n",
    "        for i in range(self.n_iterations):        \n",
    "            grad_w, grad_w0 = self._log_grad(X, target)\n",
    "            self.w = self.w-self.eta * grad_w\n",
    "            self.w0 = self.w0 - self.eta * grad_w0\n",
    "    def fit(self, X, target):\n",
    "        self.w = np.zeros((1, X.shape[1]))\n",
    "        self.w0=0\n",
    "        self._optimize(X, target)\n",
    "    def predict_proba(self, X):  \n",
    "        '''\n",
    "        Рассчёт вероятности\n",
    "        '''\n",
    "        score=X.dot(self.w.T).flatten()+self.w0\n",
    "        return 1/(1+np.exp(-score))\n",
    "    def predict(self, X, thr=0.5):\n",
    "        proba=self.predict_proba(X)\n",
    "        y_predicted = np.zeros(proba.shape, dtype=bool) \n",
    "        y_predicted[proba>thr]=1\n",
    "        y_predicted[proba<=thr]=0\n",
    "        return y_predicted"
   ]
  },
  {
   "cell_type": "code",
   "execution_count": 3,
   "metadata": {},
   "outputs": [],
   "source": [
    "def confusion(predicted, actual):\n",
    "    TP=np.sum(np.logical_and(predicted==1, actual==1))\n",
    "    FP=np.sum(np.logical_and(predicted==1, actual==0))\n",
    "    FN=np.sum(np.logical_and(predicted==0, actual==1))\n",
    "    TN=np.sum(np.logical_and(predicted==0, actual==0))\n",
    "    return {'TP': TP, 'FP': FP, 'FN': FN, 'TN': TN}"
   ]
  },
  {
   "cell_type": "code",
   "execution_count": 4,
   "metadata": {},
   "outputs": [
    {
     "data": {
      "image/png": "[encoded data removed]",
      "text/plain": [
       "<Figure size 576x576 with 1 Axes>"
      ]
     },
     "metadata": {
      "needs_background": "light"
     },
     "output_type": "display_data"
    }
   ],
   "source": [
    "# сгеренируем данные с помощью sklearn.datasets\n",
    "classes = datasets.make_classification(n_samples=100, n_features=2, n_informative=2,\n",
    "                                       n_redundant=0, n_classes=2, random_state=1)\n",
    "\n",
    "# изобразим их на графике\n",
    "colors = ListedColormap(['red', 'blue'])\n",
    "\n",
    "plt.figure(figsize=(8, 8))\n",
    "plt.scatter([x[0] for x in classes[0]], [x[1] for x in classes[0]], c=classes[1], cmap=colors)\n",
    "plt.show()"
   ]
  },
  {
   "cell_type": "code",
   "execution_count": 5,
   "metadata": {},
   "outputs": [],
   "source": [
    "# перемешивание датасета\n",
    "np.random.seed(12)\n",
    "shuffle_index = np.random.permutation(classes[0].shape[0])\n",
    "X_shuffled, y_shuffled = classes[0][shuffle_index], classes[1][shuffle_index]\n",
    "\n",
    "# разбивка на обучающую и тестовую выборки\n",
    "X_train, X_test, y_train, y_test = train_test_split(X_shuffled, y_shuffled, test_size=0.3, random_state=42)"
   ]
  },
  {
   "cell_type": "code",
   "execution_count": 6,
   "metadata": {},
   "outputs": [
    {
     "name": "stdout",
     "output_type": "stream",
     "text": [
      "Итоговый вектор весов w: [[ 0.30963883 -0.06831004]]\n",
      "Точность на обучающей выборке: 97.143\n",
      "Точность на тестовой выборке: 96.667\n"
     ]
    }
   ],
   "source": [
    "mod=logistic_regression()\n",
    "mod.fit(X_train, y_train)\n",
    "y_predicted_test = mod.predict(X_test)\n",
    "y_predicted_train = mod.predict(X_train)\n",
    "\n",
    "# В качестве меры точности возьмем долю правильных ответов\n",
    "train_accuracy = 100.0 - np.mean(np.abs(y_predicted_train - y_train)*100.0)\n",
    "test_accuracy = 100.0 - np.mean(np.abs(y_predicted_test-y_test)*100.0)\n",
    "\n",
    "print(f\"Итоговый вектор весов w: {mod.w}\")\n",
    "print(f\"Точность на обучающей выборке: {train_accuracy:.3f}\")\n",
    "print(f\"Точность на тестовой выборке: {test_accuracy:.3f}\")"
   ]
  },
  {
   "cell_type": "code",
   "execution_count": 7,
   "metadata": {},
   "outputs": [],
   "source": [
    "def metrics(X, y, prob):\n",
    "    TP = confusion(mod.predict(X, prob), y)['TP']\n",
    "    FP = confusion(mod.predict(X, prob), y)['FP']\n",
    "    FN = confusion(mod.predict(X, prob), y)['FN']\n",
    "    TN = confusion(mod.predict(X, prob), y)['TN']\n",
    "    \n",
    "    Precision = round(TP / (TP + FP),4) if (TP+FP)!=0 else 1\n",
    "    Recall = round(TP / (TP + FN),4)\n",
    "    FPR = round(FP / (FP + TN),4)\n",
    "    print(f'Для порога по вероятности {p} на тестовой выборке имеем:\\nPrecision = {Precision}, \\\n",
    "    Recall = TPR = {Recall}, \\\n",
    "    FPR = {FPR}')\n",
    "    return Precision, Recall"
   ]
  },
  {
   "cell_type": "code",
   "execution_count": 8,
   "metadata": {},
   "outputs": [
    {
     "data": {
      "text/plain": [
       "array([0.36659829, 0.38234716, 0.38501771, 0.38657276, 0.38944167,\n",
       "       0.39543157, 0.40245842, 0.40803208, 0.41360965, 0.42422899,\n",
       "       0.42692882, 0.43561562, 0.44329751, 0.44623287, 0.45707606,\n",
       "       0.45761897, 0.50243066, 0.50942069, 0.52848927, 0.54288607,\n",
       "       0.54386408, 0.54451869, 0.5452623 , 0.55047631, 0.57256387,\n",
       "       0.59040915, 0.59552941, 0.59882982, 0.60607971, 0.61196066])"
      ]
     },
     "execution_count": 8,
     "metadata": {},
     "output_type": "execute_result"
    }
   ],
   "source": [
    "proba=np.unique(mod.predict_proba(X_test))\n",
    "proba"
   ]
  },
  {
   "cell_type": "code",
   "execution_count": 9,
   "metadata": {},
   "outputs": [
    {
     "name": "stdout",
     "output_type": "stream",
     "text": [
      "Для порога по вероятности 0.36659828815399365 на тестовой выборке имеем:\n",
      "Precision = 0.5172,     Recall = TPR = 1.0,     FPR = 0.9333\n",
      "Для порога по вероятности 0.38234715605474573 на тестовой выборке имеем:\n",
      "Precision = 0.5357,     Recall = TPR = 1.0,     FPR = 0.8667\n",
      "Для порога по вероятности 0.38501771188902856 на тестовой выборке имеем:\n",
      "Precision = 0.5556,     Recall = TPR = 1.0,     FPR = 0.8\n",
      "Для порога по вероятности 0.3865727623232509 на тестовой выборке имеем:\n",
      "Precision = 0.5769,     Recall = TPR = 1.0,     FPR = 0.7333\n",
      "Для порога по вероятности 0.3894416739270924 на тестовой выборке имеем:\n",
      "Precision = 0.6,     Recall = TPR = 1.0,     FPR = 0.6667\n",
      "Для порога по вероятности 0.39543157192138945 на тестовой выборке имеем:\n",
      "Precision = 0.625,     Recall = TPR = 1.0,     FPR = 0.6\n",
      "Для порога по вероятности 0.4024584154427678 на тестовой выборке имеем:\n",
      "Precision = 0.6522,     Recall = TPR = 1.0,     FPR = 0.5333\n",
      "Для порога по вероятности 0.40803207679311465 на тестовой выборке имеем:\n",
      "Precision = 0.6818,     Recall = TPR = 1.0,     FPR = 0.4667\n",
      "Для порога по вероятности 0.41360964975266973 на тестовой выборке имеем:\n",
      "Precision = 0.7143,     Recall = TPR = 1.0,     FPR = 0.4\n",
      "Для порога по вероятности 0.4242289876718357 на тестовой выборке имеем:\n",
      "Precision = 0.75,     Recall = TPR = 1.0,     FPR = 0.3333\n",
      "Для порога по вероятности 0.42692882222467327 на тестовой выборке имеем:\n",
      "Precision = 0.7895,     Recall = TPR = 1.0,     FPR = 0.2667\n",
      "Для порога по вероятности 0.4356156215147782 на тестовой выборке имеем:\n",
      "Precision = 0.7778,     Recall = TPR = 0.9333,     FPR = 0.2667\n",
      "Для порога по вероятности 0.4432975100979889 на тестовой выборке имеем:\n",
      "Precision = 0.8235,     Recall = TPR = 0.9333,     FPR = 0.2\n",
      "Для порога по вероятности 0.4462328703362393 на тестовой выборке имеем:\n",
      "Precision = 0.875,     Recall = TPR = 0.9333,     FPR = 0.1333\n",
      "Для порога по вероятности 0.45707606175936705 на тестовой выборке имеем:\n",
      "Precision = 0.9333,     Recall = TPR = 0.9333,     FPR = 0.0667\n",
      "Для порога по вероятности 0.4576189746727104 на тестовой выборке имеем:\n",
      "Precision = 1.0,     Recall = TPR = 0.9333,     FPR = 0.0\n",
      "Для порога по вероятности 0.5024306580531034 на тестовой выборке имеем:\n",
      "Precision = 1.0,     Recall = TPR = 0.8667,     FPR = 0.0\n",
      "Для порога по вероятности 0.5094206949536595 на тестовой выборке имеем:\n",
      "Precision = 1.0,     Recall = TPR = 0.8,     FPR = 0.0\n",
      "Для порога по вероятности 0.5284892729173355 на тестовой выборке имеем:\n",
      "Precision = 1.0,     Recall = TPR = 0.7333,     FPR = 0.0\n",
      "Для порога по вероятности 0.5428860731812319 на тестовой выборке имеем:\n",
      "Precision = 1.0,     Recall = TPR = 0.6667,     FPR = 0.0\n",
      "Для порога по вероятности 0.5438640833263784 на тестовой выборке имеем:\n",
      "Precision = 1.0,     Recall = TPR = 0.6,     FPR = 0.0\n",
      "Для порога по вероятности 0.5445186856364503 на тестовой выборке имеем:\n",
      "Precision = 1.0,     Recall = TPR = 0.5333,     FPR = 0.0\n",
      "Для порога по вероятности 0.5452623018374647 на тестовой выборке имеем:\n",
      "Precision = 1.0,     Recall = TPR = 0.4667,     FPR = 0.0\n",
      "Для порога по вероятности 0.5504763137610595 на тестовой выборке имеем:\n",
      "Precision = 1.0,     Recall = TPR = 0.4,     FPR = 0.0\n",
      "Для порога по вероятности 0.5725638708517513 на тестовой выборке имеем:\n",
      "Precision = 1.0,     Recall = TPR = 0.3333,     FPR = 0.0\n",
      "Для порога по вероятности 0.5904091490902769 на тестовой выборке имеем:\n",
      "Precision = 1.0,     Recall = TPR = 0.2667,     FPR = 0.0\n",
      "Для порога по вероятности 0.595529406867744 на тестовой выборке имеем:\n",
      "Precision = 1.0,     Recall = TPR = 0.2,     FPR = 0.0\n",
      "Для порога по вероятности 0.5988298164311372 на тестовой выборке имеем:\n",
      "Precision = 1.0,     Recall = TPR = 0.1333,     FPR = 0.0\n",
      "Для порога по вероятности 0.6060797090256268 на тестовой выборке имеем:\n",
      "Precision = 1.0,     Recall = TPR = 0.0667,     FPR = 0.0\n",
      "Для порога по вероятности 0.6119606620548288 на тестовой выборке имеем:\n",
      "Precision = 1,     Recall = TPR = 0.0,     FPR = 0.0\n"
     ]
    }
   ],
   "source": [
    "pr_list = []\n",
    "for p in proba:\n",
    "    precision, recall = metrics(X_test, y_test, p)\n",
    "    pr_list.append([recall, precision])"
   ]
  },
  {
   "cell_type": "markdown",
   "metadata": {},
   "source": [
    "Расчитаем вероятности принадлежности к \"положительному\" классу объектов тестовой выборки, используя predict_proba."
   ]
  },
  {
   "cell_type": "code",
   "execution_count": 10,
   "metadata": {},
   "outputs": [],
   "source": [
    "predict_list = mod.predict_proba(X_test).tolist()\n",
    "predict_list\n",
    "real_class = y_test.tolist()\n",
    "predict_real_class = list(zip(predict_list, real_class))"
   ]
  },
  {
   "cell_type": "markdown",
   "metadata": {},
   "source": [
    "Отсоритируем объекты в порядке увеличения вероятности принадлежности к \"положительному\" классу и построим график ROC_AUC."
   ]
  },
  {
   "cell_type": "code",
   "execution_count": 11,
   "metadata": {},
   "outputs": [
    {
     "data": {
      "text/plain": [
       "[(0.6119606620548288, 1),\n",
       " (0.6060797090256268, 1),\n",
       " (0.5988298164311372, 1),\n",
       " (0.595529406867744, 1),\n",
       " (0.5904091490902769, 1),\n",
       " (0.5725638708517513, 1),\n",
       " (0.5504763137610595, 1),\n",
       " (0.5452623018374647, 1),\n",
       " (0.5445186856364503, 1),\n",
       " (0.5438640833263784, 1),\n",
       " (0.5428860731812319, 1),\n",
       " (0.5284892729173355, 1),\n",
       " (0.5094206949536595, 1),\n",
       " (0.5024306580531034, 1),\n",
       " (0.4576189746727104, 0),\n",
       " (0.45707606175936705, 0),\n",
       " (0.4462328703362393, 0),\n",
       " (0.4432975100979889, 0),\n",
       " (0.4356156215147782, 1),\n",
       " (0.42692882222467327, 0),\n",
       " (0.4242289876718357, 0),\n",
       " (0.41360964975266973, 0),\n",
       " (0.40803207679311465, 0),\n",
       " (0.4024584154427678, 0),\n",
       " (0.39543157192138945, 0),\n",
       " (0.3894416739270924, 0),\n",
       " (0.3865727623232509, 0),\n",
       " (0.38501771188902856, 0),\n",
       " (0.38234715605474573, 0),\n",
       " (0.36659828815399365, 0)]"
      ]
     },
     "execution_count": 11,
     "metadata": {},
     "output_type": "execute_result"
    }
   ],
   "source": [
    "predict_real_class.sort(reverse = True)\n",
    "predict_real_class"
   ]
  },
  {
   "cell_type": "code",
   "execution_count": 12,
   "metadata": {},
   "outputs": [
    {
     "name": "stdout",
     "output_type": "stream",
     "text": [
      "n_abscissa= 15, n_ordinate= 15\n"
     ]
    }
   ],
   "source": [
    "n_ordinate = sum([el[1] for el in predict_real_class])\n",
    "n_abscissa = len(predict_real_class) - n_ordinate\n",
    "print(f'n_abscissa= {n_abscissa}, n_ordinate= {n_ordinate}')"
   ]
  },
  {
   "cell_type": "code",
   "execution_count": 13,
   "metadata": {},
   "outputs": [
    {
     "data": {
      "image/png": "[encoded data removed]",
      "text/plain": [
       "<Figure size 432x288 with 1 Axes>"
      ]
     },
     "metadata": {
      "needs_background": "light"
     },
     "output_type": "display_data"
    }
   ],
   "source": [
    "x = 0\n",
    "y = 0\n",
    "roc_auc = [(0,0)]\n",
    "for el in predict_real_class:\n",
    "    if el[1] == 0:\n",
    "        x = x + 1/n_abscissa\n",
    "    else:\n",
    "        y = y + 1/n_ordinate\n",
    "    roc_auc.append((x,y))\n",
    "\n",
    "plt.plot([point[0] for point in roc_auc], [point[1] for point in roc_auc], label='ROC кривая')\n",
    "plt.plot([0,1],[0,1], 'r--')\n",
    "\n",
    "plt.title('ROC curve')\n",
    "plt.xlabel('FPR')\n",
    "plt.ylabel('TPR')\n",
    "plt.xticks(np.arange(0, 1, step=1/n_abscissa),rotation=70)\n",
    "plt.yticks(np.arange(0, 1, step=1/n_ordinate))\n",
    "plt.legend(loc=\"lower right\")\n",
    "\n",
    "plt.grid()\n",
    "plt.show()"
   ]
  },
  {
   "cell_type": "markdown",
   "metadata": {},
   "source": [
    "Построим ROC кривую, воспользовавшись библиотекой sklearn"
   ]
  },
  {
   "cell_type": "code",
   "execution_count": 14,
   "metadata": {},
   "outputs": [],
   "source": [
    "from sklearn.metrics import roc_curve\n",
    "\n",
    "fpr, tpr, treshold = roc_curve(real_class, mod.predict_proba(X_test))"
   ]
  },
  {
   "cell_type": "code",
   "execution_count": 15,
   "metadata": {},
   "outputs": [
    {
     "data": {
      "image/png": "[encoded data removed]",
      "text/plain": [
       "<Figure size 432x288 with 1 Axes>"
      ]
     },
     "metadata": {
      "needs_background": "light"
     },
     "output_type": "display_data"
    }
   ],
   "source": [
    "plt.plot(fpr, tpr, label='ROC кривая')\n",
    "plt.plot([0, 1], [0, 1], 'r--')\n",
    "\n",
    "plt.title('ROC curve')\n",
    "plt.xlabel('False Positive Rate')\n",
    "plt.ylabel('True Positive Rate')\n",
    "plt.legend(loc=\"lower right\")\n",
    "plt.show()"
   ]
  },
  {
   "cell_type": "code",
   "execution_count": 16,
   "metadata": {},
   "outputs": [
    {
     "data": {
      "image/png": "[encoded data removed]",
      "text/plain": [
       "<Figure size 432x288 with 1 Axes>"
      ]
     },
     "metadata": {
      "needs_background": "light"
     },
     "output_type": "display_data"
    }
   ],
   "source": [
    "x = 0\n",
    "y = 0\n",
    "roc_auc = [(0,0)]\n",
    "for el in predict_real_class:\n",
    "    if el[1] == 0:\n",
    "        x = x + 1/n_abscissa\n",
    "    else:\n",
    "        y = y + 1/n_ordinate\n",
    "    roc_auc.append((x,y))\n",
    "\n",
    "plt.plot([point[0] for point in roc_auc], [point[1] for point in roc_auc], label='ROC кривая')\n",
    "plt.plot([0,1],[0,1], 'r--')\n",
    "\n",
    "plt.title('ROC curve')\n",
    "plt.xlabel('Precision')\n",
    "plt.ylabel('Recall')\n",
    "plt.legend(loc=\"lower right\")\n",
    "plt.show()"
   ]
  },
  {
   "cell_type": "markdown",
   "metadata": {},
   "source": [
    "Построим PR-AUC"
   ]
  },
  {
   "cell_type": "code",
   "execution_count": 17,
   "metadata": {},
   "outputs": [
    {
     "data": {
      "image/png": "[encoded data removed]",
      "text/plain": [
       "<Figure size 432x288 with 1 Axes>"
      ]
     },
     "metadata": {
      "needs_background": "light"
     },
     "output_type": "display_data"
    }
   ],
   "source": [
    "plt.plot([point[0] for point in pr_list], [point[1] for point in pr_list], label='PR кривая')\n",
    "\n",
    "plt.title('PR curve')\n",
    "plt.xlabel('Recall')\n",
    "plt.ylabel('Precision')\n",
    "plt.legend(loc=\"lower left\")\n",
    "plt.show()"
   ]
  },
  {
   "cell_type": "code",
   "execution_count": 18,
   "metadata": {},
   "outputs": [],
   "source": [
    "from sklearn.metrics import precision_recall_curve\n",
    "\n",
    "precision, recall, treshold = precision_recall_curve(real_class, mod.predict_proba(X_test))"
   ]
  },
  {
   "cell_type": "code",
   "execution_count": 19,
   "metadata": {},
   "outputs": [
    {
     "data": {
      "image/png": "[encoded data removed]",
      "text/plain": [
       "<Figure size 432x288 with 1 Axes>"
      ]
     },
     "metadata": {
      "needs_background": "light"
     },
     "output_type": "display_data"
    }
   ],
   "source": [
    "plt.plot(recall, precision, label='PR кривая')\n",
    "\n",
    "plt.title('PR curve')\n",
    "plt.xlabel('Recall')\n",
    "plt.ylabel('Precision')\n",
    "plt.xlim((0, 1.05))\n",
    "plt.ylim((0, 1.05))\n",
    "plt.legend(loc=\"lower left\")\n",
    "plt.show()"
   ]
  }
 ],
 "metadata": {
  "kernelspec": {
   "display_name": "Python 3",
   "language": "python",
   "name": "python3"
  },
  "language_info": {
   "codemirror_mode": {
    "name": "ipython",
    "version": 3
   },
   "file_extension": ".py",
   "mimetype": "text/x-python",
   "name": "python",
   "nbconvert_exporter": "python",
   "pygments_lexer": "ipython3",
   "version": "3.8.5"
  }
 },
 "nbformat": 4,
 "nbformat_minor": 4
}
