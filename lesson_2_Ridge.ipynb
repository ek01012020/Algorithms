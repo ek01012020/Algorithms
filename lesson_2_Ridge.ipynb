{
 "cells": [
  {
   "cell_type": "markdown",
   "metadata": {},
   "source": [
    "__Задание 1__"
   ]
  },
  {
   "cell_type": "markdown",
   "metadata": {},
   "source": [
    "В этом задании вы должны модифицировать реализацию рассчёта среднеквадратичной ошибки и рассчёта её производной, так, чтобы с к среднеквадратичной ошибке добавлялась l2 регулярязационная поправка: $ +c*\\sum \\limits _{j}  w_{j}^2 $ а к градиенту- ссответствующее выражение для градиента регулярязационной поправки."
   ]
  },
  {
   "cell_type": "code",
   "execution_count": 1,
   "metadata": {},
   "outputs": [],
   "source": [
    "import matplotlib\n",
    "import numpy as np\n",
    "import matplotlib.pyplot as plt\n",
    "from sklearn.linear_model import LinearRegression as sklearn_LR\n",
    "from sklearn.linear_model import Ridge\n",
    "from sklearn.metrics import mean_squared_error\n",
    "%matplotlib inline"
   ]
  },
  {
   "cell_type": "code",
   "execution_count": 2,
   "metadata": {},
   "outputs": [],
   "source": [
    "class linear_regression:\n",
    "    def __init__(self, eta = 0.9, max_iter = 1e4, min_weight_dist = 1e-8):\n",
    "        self.eta = eta\n",
    "        self.max_iter = max_iter\n",
    "        self.min_weight_dist = min_weight_dist\n",
    "    def _mserror(self, X, y_real):\n",
    "        #рассчёт среднеквадратичной ошибки\n",
    "        y = X.dot(self.w.T)+self.w0\n",
    "        return np.sum((y - y_real)**2) / y_real.shape[0]\n",
    "    def _mserror_grad(self, X, y_real):\n",
    "        #рассчёт градиента ошибки.\n",
    "        #2*delta.T.dot(X)/y_real.shape[0] - градиент по коэффициентам при факторах\n",
    "        #np.sum(2*delta)/y_real.shape[0] - производная(градиент) при нулевом коэффициенте\n",
    "        delta=(X.dot(self.w.T)+self.w0-y_real)\n",
    "        return 2*delta.T.dot(X)/y_real.shape[0], np.sum(2*delta)/y_real.shape[0]\n",
    "    def _optimize(self, X, Y):\n",
    "        #оптимизация коэффициентов\n",
    "        iter_num = 0\n",
    "        weight_dist = np.inf\n",
    "        self.w = np.zeros((1, X.shape[1]))\n",
    "        self.w0=0\n",
    "        while weight_dist > self.min_weight_dist and iter_num < self.max_iter:\n",
    "            gr_w, gr_w0=self._mserror_grad(X, Y)\n",
    "            if iter_num==0:\n",
    "                #Чтобы eta адаптировалась к порядку градиента, делим на l2 норму градиента в нуле\n",
    "                eta=self.eta/np.sqrt(np.linalg.norm(gr_w)**2+(gr_w0)**2)\n",
    "            new_w = self.w - eta * gr_w\n",
    "            new_w0= self.w0 - eta * gr_w0\n",
    "            weight_dist = np.sqrt(np.linalg.norm(new_w - self.w)**2+(new_w0 - self.w0)**2)\n",
    "            iter_num += 1\n",
    "            self.w = new_w\n",
    "            self.w0 = new_w0\n",
    "    def fit(self, X, Y):\n",
    "        if Y.ndim==1:\n",
    "            Y=Y[:, np.newaxis]\n",
    "        self._optimize(X, Y)\n",
    "        return self\n",
    "    def predict(self, X):\n",
    "        return (X.dot(self.w.T)+self.w0).flatten()\n",
    "    def test(self, X, Y):\n",
    "        if Y.ndim==1:\n",
    "            Y=Y[:, np.newaxis]\n",
    "        return self._mserror(X, Y)"
   ]
  },
  {
   "cell_type": "code",
   "execution_count": 3,
   "metadata": {},
   "outputs": [],
   "source": [
    "class linear_regression_L2(linear_regression):\n",
    "    def __init__(self, reg=1, *args, **kwargs):\n",
    "        self.reg = reg\n",
    "        super().__init__(*args, **kwargs)\n",
    "    def _mserror(self, X, y_real):\n",
    "        #рассчёт среднеквадратичной ошибки\n",
    "        y = X.dot(self.w.T)+self.w0\n",
    "        penalty = self.reg*(np.sum([el**2 for el in self.w])+self.w0**2)\n",
    "        return np.sum((y - y_real)**2)/y_real.shape[0] + penalty\n",
    "    def _mserror_grad(self, X, y_real):\n",
    "        #рассчёт градиента ошибки.\n",
    "        #2*delta.T.dot(X)/y_real.shape[0] - градиент по коэффициентам при факторах\n",
    "        #np.sum(2*delta)/y_real.shape[0] - производная(градиент) при нулевом коэффициенте\n",
    "        delta=(X.dot(self.w.T)+self.w0-y_real)\n",
    "        return 2*delta.T.dot(X)/y_real.shape[0]+2*self.reg*self.w, np.sum(2*delta)/y_real.shape[0]+2*self.reg*self.w0"
   ]
  },
  {
   "cell_type": "markdown",
   "metadata": {},
   "source": [
    "__Задание 2__"
   ]
  },
  {
   "cell_type": "markdown",
   "metadata": {},
   "source": [
    "На основе этих функций создайте свою регуляризированную полиномиальную регрессию и опробуйте на одном из примеров построения полиномиальной модели из этого урока."
   ]
  },
  {
   "cell_type": "code",
   "execution_count": 4,
   "metadata": {},
   "outputs": [],
   "source": [
    "class polynomial_regression(linear_regression):\n",
    "    def __init__(self, max_power, *args, **kwargs):\n",
    "        self.max_power=max_power\n",
    "        super().__init__(*args, **kwargs)\n",
    "    @staticmethod\n",
    "    def generate_features(x, max_power):\n",
    "        x=x[:, np.newaxis]\n",
    "        return np.concatenate([x**i for i in range(1, max_power+1)], axis=1)\n",
    "    def fit(self, x, y):\n",
    "        super().fit(self.generate_features(x, self.max_power), y)\n",
    "    def predict(self, x):\n",
    "        return super().predict(self.generate_features(x, self.max_power)).flatten()\n",
    "    def test(self, x, y):\n",
    "        return super().test(self.generate_features(x, self.max_power), y)\n",
    "\n",
    "class polynomial_regression_L2(polynomial_regression):\n",
    "    def __init__(self, reg=1, *args, **kwargs):\n",
    "        self.reg=reg\n",
    "        super().__init__(*args, **kwargs)\n",
    "    def _mserror(self, X, y_real):\n",
    "        #рассчёт среднеквадратичной ошибки\n",
    "        y = X.dot(self.w.T)+self.w0\n",
    "        penalty = self.reg*(np.sum([el**2 for el in self.w])+self.w0**2)\n",
    "        return np.sum((y - y_real)**2)/y_real.shape[0] + penalty\n",
    "    def _mserror_grad(self, X, y_real):\n",
    "        #рассчёт градиента ошибки.\n",
    "        #2*delta.T.dot(X)/y_real.shape[0] - градиент по коэффициентам при факторах\n",
    "        #np.sum(2*delta)/y_real.shape[0] - производная(градиент) при нулевом коэффициенте\n",
    "        delta=(X.dot(self.w.T)+self.w0-y_real)\n",
    "        return 2*delta.T.dot(X)/y_real.shape[0]+2*self.reg*self.w, np.sum(2*delta)/y_real.shape[0]+2*self.reg*self.w0"
   ]
  },
  {
   "cell_type": "code",
   "execution_count": 5,
   "metadata": {},
   "outputs": [],
   "source": [
    "def f(x):\n",
    "    return 0.6 - 13.2 * x - 5.3 * x ** 2 - 4.17 * x ** 3"
   ]
  },
  {
   "cell_type": "code",
   "execution_count": 6,
   "metadata": {},
   "outputs": [],
   "source": [
    "def graph(x, y:list, name=None):\n",
    "    plt.xlabel('x')\n",
    "    plt.ylabel('f(x)')\n",
    "    plt.ylim(-5000, 5000)\n",
    "    plt.xlim(-10,10)\n",
    "    for ind,el in enumerate(y):\n",
    "        if name != None:\n",
    "            plt.plot(x, y[ind], label=name[ind])\n",
    "        else:\n",
    "            plt.plot(x, y[ind])\n",
    "    if name != None:\n",
    "        plt.legend()\n",
    "    plt.show()"
   ]
  },
  {
   "cell_type": "code",
   "execution_count": 7,
   "metadata": {},
   "outputs": [],
   "source": [
    "# Возьмем 3 признака и 100 объектов\n",
    "np.random.seed(16)\n",
    "x_data = np.random.uniform(-10, 10, 100)\n",
    "f_data = [f(i) for i in x_data] + np.random.uniform(-1000, 1000, 100)"
   ]
  },
  {
   "cell_type": "code",
   "execution_count": 8,
   "metadata": {},
   "outputs": [
    {
     "data": {
      "image/png": "[encoded data removed]",
      "text/plain": [
       "<Figure size 432x288 with 1 Axes>"
      ]
     },
     "metadata": {
      "needs_background": "light"
     },
     "output_type": "display_data"
    }
   ],
   "source": [
    "dots = np.linspace(-10, 10, 100)\n",
    "graph(dots, [f(dots)])"
   ]
  },
  {
   "cell_type": "code",
   "execution_count": 9,
   "metadata": {},
   "outputs": [
    {
     "name": "stdout",
     "output_type": "stream",
     "text": [
      "coef_ = [25.46365843 -3.98596882 -4.70248711]\n",
      "intercept_ = -52.895878650072405\n",
      "MSE sklearn_Ridge: 330992.0614\n"
     ]
    }
   ],
   "source": [
    "ridge = Ridge(alpha=0.5)\n",
    "ridge.fit(polynomial_regression.generate_features(x_data, 3), f_data)\n",
    "y_train_pred = ridge.predict(polynomial_regression.generate_features(x_data, 3))\n",
    "\n",
    "print(f'coef_ = {ridge.coef_}')\n",
    "print(f'intercept_ = {ridge.intercept_}')\n",
    "print(f'MSE sklearn_Ridge: {round(mean_squared_error(f_data, y_train_pred),4)}')"
   ]
  },
  {
   "cell_type": "code",
   "execution_count": 10,
   "metadata": {},
   "outputs": [
    {
     "data": {
      "image/png": "[encoded data removed]",
      "text/plain": [
       "<Figure size 432x288 with 1 Axes>"
      ]
     },
     "metadata": {
      "needs_background": "light"
     },
     "output_type": "display_data"
    }
   ],
   "source": [
    "f_ridge = [ridge.intercept_ + np.sum([coef*x_dots**(ind+1) for ind,coef in enumerate(ridge.coef_)]) for x_dots in dots]\n",
    "graph(dots, [f(dots), f_ridge], name=['f(x)', 'sklearn_l2'])"
   ]
  },
  {
   "cell_type": "code",
   "execution_count": 11,
   "metadata": {},
   "outputs": [
    {
     "name": "stdout",
     "output_type": "stream",
     "text": [
      "MSE polynomial_regression_L2: 334916.98566837306\n"
     ]
    }
   ],
   "source": [
    "pr_l2 = polynomial_regression_L2(max_power=3)\n",
    "pr_l2.fit(x_data,f_data)\n",
    "print(f'MSE polynomial_regression_L2: {pr_l2.test(x_data,f_data)}')"
   ]
  },
  {
   "cell_type": "code",
   "execution_count": 12,
   "metadata": {},
   "outputs": [
    {
     "data": {
      "image/png": "[encoded data removed]",
      "text/plain": [
       "<Figure size 432x288 with 1 Axes>"
      ]
     },
     "metadata": {
      "needs_background": "light"
     },
     "output_type": "display_data"
    }
   ],
   "source": [
    "f_pr_l2 = [pr_l2.w0 + np.sum([coef*x_dots**(ind+1) for ind,coef in enumerate(pr_l2.w.flatten())]) for x_dots in dots]\n",
    "graph(dots, [f(dots), f_pr_l2], name=['f(x)', 'LR_l2'])"
   ]
  },
  {
   "cell_type": "code",
   "execution_count": 13,
   "metadata": {},
   "outputs": [
    {
     "name": "stdout",
     "output_type": "stream",
     "text": [
      "coef_ = [ 6.01755034e+01 -7.89057732e+00 -6.54189432e+00 -6.91745971e-02\n",
      "  1.72015323e-02  1.37716181e-03]\n",
      "intercept_ = 10.198846680067277\n",
      "MSE sklearn_Ridge: 322910.7333\n"
     ]
    }
   ],
   "source": [
    "ridge = Ridge(alpha=0.5)\n",
    "ridge.fit(polynomial_regression.generate_features(x_data, 6), f_data)\n",
    "y_train_pred = ridge.predict(polynomial_regression.generate_features(x_data, 6))\n",
    "\n",
    "print(f'coef_ = {ridge.coef_}')\n",
    "print(f'intercept_ = {ridge.intercept_}')\n",
    "print(f'MSE sklearn_Ridge: {round(mean_squared_error(f_data, y_train_pred),4)}')"
   ]
  },
  {
   "cell_type": "code",
   "execution_count": 14,
   "metadata": {},
   "outputs": [
    {
     "name": "stdout",
     "output_type": "stream",
     "text": [
      "MSE sklearn: 322910.6773\n"
     ]
    }
   ],
   "source": [
    "sklearn=sklearn_LR()\n",
    "sklearn.fit(polynomial_regression.generate_features(x_data, 6), f_data)\n",
    "y_sklearn_pred = sklearn.predict(polynomial_regression.generate_features(x_data, 6))\n",
    "print(f'MSE sklearn: {round(mean_squared_error(f_data, y_sklearn_pred),4)}')"
   ]
  },
  {
   "cell_type": "code",
   "execution_count": 15,
   "metadata": {},
   "outputs": [
    {
     "name": "stdout",
     "output_type": "stream",
     "text": [
      "MSE polynomial_regression_L2: 438308.50353906775\n"
     ]
    }
   ],
   "source": [
    "pr_l2 = polynomial_regression_L2(eta=0.0005, max_power=6, reg=0.5)\n",
    "pr_l2.fit(x_data,f_data)\n",
    "print(f'MSE polynomial_regression_L2: {pr_l2.test(x_data,f_data)}')"
   ]
  },
  {
   "cell_type": "code",
   "execution_count": 16,
   "metadata": {},
   "outputs": [
    {
     "data": {
      "image/png": "[encoded data removed]",
      "text/plain": [
       "<Figure size 432x288 with 1 Axes>"
      ]
     },
     "metadata": {
      "needs_background": "light"
     },
     "output_type": "display_data"
    }
   ],
   "source": [
    "f_ridge = [ridge.intercept_ + np.sum([coef*x_dots**(ind+1) for ind,coef in enumerate(ridge.coef_)]) for x_dots in dots]\n",
    "f_sklearn = [sklearn.intercept_ + np.sum([coef*x_dots**(ind+1) for ind,coef in enumerate(sklearn.coef_)]) for x_dots in dots]\n",
    "f_pr_l2 = [pr_l2.w0 + np.sum([coef*x_dots**(ind+1) for ind,coef in enumerate(pr_l2.w.flatten())]) for x_dots in dots]\n",
    "graph(dots, [f(dots), f_pr_l2, f_ridge, f_sklearn], name=['f(x)', 'LR_l2', 'sklearn_l2', 'sklearn'])"
   ]
  },
  {
   "cell_type": "markdown",
   "metadata": {},
   "source": [
    "__Задание 3 (по желанию)__"
   ]
  },
  {
   "cell_type": "markdown",
   "metadata": {},
   "source": [
    "Оцените предсказательную способность реализованного метода с использование 5-ти ступенчатой кросс-валидации."
   ]
  },
  {
   "cell_type": "code",
   "execution_count": 17,
   "metadata": {},
   "outputs": [
    {
     "name": "stdout",
     "output_type": "stream",
     "text": [
      "0.8562225454591696\n"
     ]
    }
   ],
   "source": [
    "#Посчитаем р-квадрат регуляризованной полиномиальной регрессии\n",
    "def r_square(y, y_real):\n",
    "    ss_total=np.sum((y_real-np.mean(y_real))**2)\n",
    "    ss_res=np.sum((y_real-y)**2)\n",
    "    return 1-ss_res/ss_total\n",
    "print(r_square(pr_l2.predict(x_data), f_data))"
   ]
  },
  {
   "cell_type": "code",
   "execution_count": 18,
   "metadata": {},
   "outputs": [
    {
     "name": "stdout",
     "output_type": "stream",
     "text": [
      "0.8943455480602314\n",
      "0.9013641449229537\n",
      "0.8553181711273915\n",
      "0.8586385221264499\n",
      "0.8611888996263\n"
     ]
    }
   ],
   "source": [
    "indexes=np.arange(len(f_data))%5\n",
    "y_actual=[]\n",
    "y_predicted=[]\n",
    "\n",
    "for i in range(5):\n",
    "    y_actual.append(f_data[indexes==i])\n",
    "    mod=polynomial_regression_L2(max_power=3)\n",
    "    mod.fit(x_data[indexes!=i], f_data[indexes!=i])\n",
    "    y_predicted.append(mod.predict(x_data[indexes==i]))\n",
    "    print(r_square(y_predicted[i], y_actual[i]))"
   ]
  },
  {
   "cell_type": "code",
   "execution_count": 19,
   "metadata": {},
   "outputs": [
    {
     "name": "stdout",
     "output_type": "stream",
     "text": [
      "0.8827382518644834\n"
     ]
    }
   ],
   "source": [
    "y_actual=np.concatenate(y_actual)\n",
    "y_predicted=np.concatenate(y_predicted)\n",
    "print(r_square(y_predicted, y_actual))"
   ]
  },
  {
   "cell_type": "code",
   "execution_count": 20,
   "metadata": {},
   "outputs": [
    {
     "data": {
      "text/plain": [
       "3048520.391953322"
      ]
     },
     "execution_count": 20,
     "metadata": {},
     "output_type": "execute_result"
    }
   ],
   "source": [
    "np.sum((y_actual-np.mean(y_actual))**2)/len(y_actual)"
   ]
  }
 ],
 "metadata": {
  "kernelspec": {
   "display_name": "Python 3",
   "language": "python",
   "name": "python3"
  },
  "language_info": {
   "codemirror_mode": {
    "name": "ipython",
    "version": 3
   },
   "file_extension": ".py",
   "mimetype": "text/x-python",
   "name": "python",
   "nbconvert_exporter": "python",
   "pygments_lexer": "ipython3",
   "version": "3.8.3"
  }
 },
 "nbformat": 4,
 "nbformat_minor": 4
}
