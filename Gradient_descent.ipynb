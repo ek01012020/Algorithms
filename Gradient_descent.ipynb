{
 "cells": [
  {
   "cell_type": "markdown",
   "metadata": {},
   "source": [
    "### Задание"
   ]
  },
  {
   "cell_type": "markdown",
   "metadata": {},
   "source": [
    "1. Реализовать оптимизацию методом градиентного спуска для x^2(np.sin(0,5_x)^2+1).  \n",
    "2. Какие параметры шага и количества итераций оптимальны?  \n",
    "3. При каких значениях шага оптимизиция не выходит из локальных минимумов?"
   ]
  },
  {
   "cell_type": "markdown",
   "metadata": {},
   "source": [
    "#### Решение"
   ]
  },
  {
   "cell_type": "code",
   "execution_count": 1,
   "metadata": {},
   "outputs": [],
   "source": [
    "import numpy as np\n",
    "import sympy as sym"
   ]
  },
  {
   "cell_type": "code",
   "execution_count": 2,
   "metadata": {},
   "outputs": [],
   "source": [
    "class Optimazer:\n",
    "    def __init__(self, alpha, n_iter):\n",
    "        self.alpha = alpha\n",
    "        self.n_iter = n_iter\n",
    "    \n",
    "    def fit(self, function, x0):\n",
    "        gradient = sym.diff(function)\n",
    "        print(f'Начальная точка - {x0}, значение функции - {function.subs(x, x0)}')\n",
    "        i = 0\n",
    "        list_min = [x0]\n",
    "        x_ = x0\n",
    "        while i < self.n_iter:\n",
    "            x_ -= self.alpha * gradient.subs(x, x_)\n",
    "            i += 1\n",
    "            if function.subs(x, x_) > abs(function.subs(x,list_min[len(list_min)-1])) * 10000:\n",
    "                # Уменьшаем alpha, т.к. вероятно метод расходится\n",
    "                i = 0\n",
    "                x_ = min(list_min)\n",
    "                self.alpha = self.alpha / 5\n",
    "\n",
    "            if (i == self.n_iter) and (function.subs(x, x_) < function.subs(x, list_min[len(list_min)-1])):\n",
    "                # Увеличиваем alpha, т.к. возможно находимся в локальном минимуме\n",
    "                list_min.append(x_)\n",
    "                i = 0\n",
    "                self.alpha = 5 * self.alpha\n",
    "                \n",
    "        min_f, point = min({function.subs(x, el): el for el in list_min}.items())\n",
    "        return f'Минимальное значение функции = {min_f} в точке ({point})'"
   ]
  },
  {
   "cell_type": "code",
   "execution_count": 3,
   "metadata": {},
   "outputs": [
    {
     "data": {
      "image/png": "[encoded data removed]",
      "text/plain": [
       "<Figure size 432x288 with 1 Axes>"
      ]
     },
     "metadata": {
      "needs_background": "light"
     },
     "output_type": "display_data"
    },
    {
     "data": {
      "text/plain": [
       "<sympy.plotting.plot.Plot at 0x889c910>"
      ]
     },
     "execution_count": 3,
     "metadata": {},
     "output_type": "execute_result"
    }
   ],
   "source": [
    "x = sym.symbols('x')\n",
    "\n",
    "f = (x**2)*(sym.sin(0.5*x)**2+1)\n",
    "sym.plot(f,(x,-50,50))"
   ]
  },
  {
   "cell_type": "code",
   "execution_count": 4,
   "metadata": {},
   "outputs": [
    {
     "name": "stdout",
     "output_type": "stream",
     "text": [
      "Начальная точка - -21.16990698526263, значение функции - 824.917727184501\n"
     ]
    },
    {
     "data": {
      "text/plain": [
       "'Минимальное значение функции = 0 в точке (0)'"
      ]
     },
     "execution_count": 4,
     "metadata": {},
     "output_type": "execute_result"
    }
   ],
   "source": [
    "alpha = 0.1\n",
    "opt = Optimazer(alpha, 100)\n",
    "x_ = opt.fit(f, np.random.uniform(-50, 50))\n",
    "x_"
   ]
  },
  {
   "cell_type": "markdown",
   "metadata": {},
   "source": [
    "Ответ 2:  \n",
    "    Уже как минимум со значения alpha>=0.04 существуют начальные точки, на которых метод не сходится.\n",
    "    При уменьшении alpha увеличивается количество начальных точек, для которых не можем преодолеть локальный минимум.\n",
    "    Для нахождения минимума установим первоначальное значение альфа и, если метод расходится, то уменьшаем альфа и повторяем.\n",
    "    Когда находим локальный минимум, увеличиваем альфа и таким образом пытаемся вырваться из него и найти новый минимум.  \n",
    "Ответ 3:  \n",
    "    При alpha<0.05 оптимизация не выходит из локальных минимумов для многих начальных точек."
   ]
  }
 ],
 "metadata": {
  "kernelspec": {
   "display_name": "Python 3",
   "language": "python",
   "name": "python3"
  },
  "language_info": {
   "codemirror_mode": {
    "name": "ipython",
    "version": 3
   },
   "file_extension": ".py",
   "mimetype": "text/x-python",
   "name": "python",
   "nbconvert_exporter": "python",
   "pygments_lexer": "ipython3",
   "version": "3.8.3"
  }
 },
 "nbformat": 4,
 "nbformat_minor": 4
}
